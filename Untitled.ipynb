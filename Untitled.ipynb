{
 "cells": [
  {
   "cell_type": "markdown",
   "metadata": {
    "nbpresent": {
     "id": "05911df2-1729-4010-896b-13b26d0c866e"
    }
   },
   "source": [
    "# Estructuras 3\n",
    "## Compresion\n",
    "#### 1. Determinar la Resistencia nomina de la siguiente figura:\n",
    "#### Calcular\n",
    ">$$Po = 0,85 f'c \\times (Ac-As) + As\\times fy$$\n",
    ">$$Asb = 254,5mm^2$$\n",
    ">$$As = 254,5mm^2 \\times 8$$\n",
    "\n"
   ]
  },
  {
   "cell_type": "code",
   "execution_count": 58,
   "metadata": {
    "collapsed": false,
    "nbpresent": {
     "id": "70dd1388-9f6e-4880-b80b-ebc6e81e03cf"
    }
   },
   "outputs": [
    {
     "name": "stdout",
     "output_type": "stream",
     "text": [
      "Asb = 254.5\n",
      "As = 2036.0\n"
     ]
    }
   ],
   "source": [
    "Asb = 254.5\n",
    "As = 8 * Asb\n",
    "print ('Asb =', Asb)\n",
    "print ('As =', As,)\n",
    "\n"
   ]
  },
  {
   "cell_type": "code",
   "execution_count": 59,
   "metadata": {
    "collapsed": false,
    "nbpresent": {
     "id": "dec66b5e-a9d7-468d-a6e5-16b237045ea6"
    }
   },
   "outputs": [
    {
     "name": "stdout",
     "output_type": "stream",
     "text": [
      "Ac = 196349.54084936206\n"
     ]
    }
   ],
   "source": [
    "import math\n",
    "\n",
    "Ac = math.pi * (250**2)\n",
    "print ('Ac =', Ac)\n"
   ]
  },
  {
   "cell_type": "code",
   "execution_count": 60,
   "metadata": {
    "collapsed": false,
    "nbpresent": {
     "id": "7500efda-ddf4-4333-bca3-9149b78104f8"
    }
   },
   "outputs": [],
   "source": [
    "import math\n",
    "\n",
    "fc = 30\n",
    "fy = 420\n"
   ]
  },
  {
   "cell_type": "code",
   "execution_count": 61,
   "metadata": {
    "collapsed": false,
    "nbpresent": {
     "id": "7dda8bda-807a-48a9-b435-dc8fba74bd44"
    }
   },
   "outputs": [
    {
     "name": "stdout",
     "output_type": "stream",
     "text": [
      "Po = 5810115.291658733\n"
     ]
    }
   ],
   "source": [
    "import math\n",
    "Po = (0.85 * fc * (Ac - As))+(As*fy)\n",
    "print ('Po =', Po)"
   ]
  },
  {
   "cell_type": "code",
   "execution_count": 62,
   "metadata": {
    "collapsed": false
   },
   "outputs": [],
   "source": [
    "import numpy as np\n",
    "import matplotlib.pyplot as plt\n",
    "%matplotlib inline\n",
    "\n"
   ]
  },
  {
   "cell_type": "code",
   "execution_count": 63,
   "metadata": {
    "collapsed": false
   },
   "outputs": [
    {
     "data": {
      "text/plain": [
       "<matplotlib.image.AxesImage at 0x58b9448208>"
      ]
     },
     "execution_count": 63,
     "metadata": {},
     "output_type": "execute_result"
    },
    {
     "data": {
      "image/png": "[encoded data removed]",
      "text/plain": [
       "<matplotlib.figure.Figure at 0x58b900eba8>"
      ]
     },
     "metadata": {},
     "output_type": "display_data"
    }
   ],
   "source": [
    "randim_image = np.random.rand(50,50,3)\n",
    "plt.imshow(randim_image, interpolation=\"nearest\")\n"
   ]
  },
  {
   "cell_type": "code",
   "execution_count": 64,
   "metadata": {
    "collapsed": false
   },
   "outputs": [
    {
     "ename": "ImportError",
     "evalue": "No module named 'graphics'",
     "output_type": "error",
     "traceback": [
      "\u001b[0;31m---------------------------------------------------------------------------\u001b[0m",
      "\u001b[0;31mImportError\u001b[0m                               Traceback (most recent call last)",
      "\u001b[0;32m<ipython-input-64-f8427a3bf492>\u001b[0m in \u001b[0;36m<module>\u001b[0;34m()\u001b[0m\n\u001b[0;32m----> 1\u001b[0;31m \u001b[1;32mfrom\u001b[0m \u001b[0mgraphics\u001b[0m \u001b[1;32mimport\u001b[0m \u001b[1;33m*\u001b[0m\u001b[1;33m\u001b[0m\u001b[0m\n\u001b[0m\u001b[1;32m      2\u001b[0m \u001b[0mwin\u001b[0m \u001b[1;33m=\u001b[0m \u001b[0mGraphWin\u001b[0m\u001b[1;33m(\u001b[0m\u001b[1;33m)\u001b[0m\u001b[1;33m\u001b[0m\u001b[0m\n\u001b[1;32m      3\u001b[0m \u001b[1;33m\u001b[0m\u001b[0m\n",
      "\u001b[0;31mImportError\u001b[0m: No module named 'graphics'"
     ]
    }
   ],
   "source": [
    "from graphics import *\n",
    "win = GraphWin()\n",
    "\n"
   ]
  },
  {
   "cell_type": "code",
   "execution_count": 71,
   "metadata": {
    "collapsed": false
   },
   "outputs": [
    {
     "data": {
      "text/plain": [
       "<function __main__.draw_shape>"
      ]
     },
     "execution_count": 71,
     "metadata": {},
     "output_type": "execute_result"
    }
   ],
   "source": [
    "# Imports\n",
    "from ipywidgets import interact\n",
    "from IPython.display import HTML, display\n",
    "from IPython.html.widgets.interaction import interact\n",
    "\n",
    "# Constants\n",
    "\n",
    "GRAPHIC_WIDTH  = 400\n",
    "GRAPHIC_HEIGHT = 300\n",
    "STROKE_COLOR   = 'black'\n",
    "STROKE_WIDTH   = 0\n",
    "FILL_COLOR     = 'blue'\n",
    "COLORS         = ('red', 'orange', 'yellow', 'green', 'purple', 'blue', 'black', 'white')\n",
    "\n",
    "# Functions\n",
    "\n",
    "def draw_circle(x, y, radius, stroke_color=STROKE_COLOR, stroke_width=STROKE_WIDTH, fill_color=FILL_COLOR):\n",
    "    \"\"\" Return SVG string corresponding to a circle with the specified parameters \"\"\"\n",
    "    # TODO\n",
    "\n",
    "def draw_square(x, y, length, stroke_color=STROKE_COLOR, stroke_width=STROKE_WIDTH, fill_color=FILL_COLOR):\n",
    "    \"\"\" Return SVG string corresponding to a square with the specified parameters \"\"\"\n",
    "    # TODO\n",
    "\n",
    "def draw_shape(shape, graphic_size, shape_size, stroke_color, stroke_width, fill_color):\n",
    "    \"\"\" Display the HTML code containing the specified shape and parameters \"\"\"\n",
    "    # TODO\n",
    "\n",
    "# Run interactive loop\n",
    "interact(draw_shape, shape=('circle', 'square'), graphic_size=(100, 400), shape_size=(1, 100),\n",
    "        stroke_color=COLORS, stroke_width=(1, 10), fill_color=COLORS)\n"
   ]
  },
  {
   "cell_type": "code",
   "execution_count": null,
   "metadata": {
    "collapsed": true
   },
   "outputs": [],
   "source": []
  },
  {
   "cell_type": "code",
   "execution_count": null,
   "metadata": {
    "collapsed": true
   },
   "outputs": [],
   "source": []
  }
 ],
 "metadata": {
  "anaconda-cloud": {},
  "kernelspec": {
   "display_name": "Python [conda root]",
   "language": "python",
   "name": "conda-root-py"
  },
  "language_info": {
   "codemirror_mode": {
    "name": "ipython",
    "version": 3
   },
   "file_extension": ".py",
   "mimetype": "text/x-python",
   "name": "python",
   "nbconvert_exporter": "python",
   "pygments_lexer": "ipython3",
   "version": "3.5.2"
  },
  "nbpresent": {
   "slides": {
    "0e8316f1-5bc4-4d6a-8be6-0f9d9aa6afd3": {
     "id": "0e8316f1-5bc4-4d6a-8be6-0f9d9aa6afd3",
     "prev": "cb548605-5ed7-4afe-a891-41b417e53df4",
     "regions": {
      "8587f191-e160-4bc9-ac7a-2acc1ab45f75": {
       "attrs": {
        "height": 0.8,
        "width": 0.8,
        "x": 0.1,
        "y": 0.1
       },
       "content": {
        "cell": "dec66b5e-a9d7-468d-a6e5-16b237045ea6",
        "part": "whole"
       },
       "id": "8587f191-e160-4bc9-ac7a-2acc1ab45f75"
      }
     }
    },
    "6064c88b-215a-4821-889c-6069d2945db2": {
     "id": "6064c88b-215a-4821-889c-6069d2945db2",
     "prev": null,
     "regions": {
      "975360bc-1702-4654-8beb-77a6e5d1c80a": {
       "attrs": {
        "height": 0.8,
        "width": 0.8,
        "x": -0.13320158102766794,
        "y": -0.16701800614844092
       },
       "content": {
        "cell": "05911df2-1729-4010-896b-13b26d0c866e",
        "part": "whole"
       },
       "id": "975360bc-1702-4654-8beb-77a6e5d1c80a"
      }
     }
    },
    "6e716b4b-bd32-4697-9bbc-fcc51863f645": {
     "id": "6e716b4b-bd32-4697-9bbc-fcc51863f645",
     "prev": "0e8316f1-5bc4-4d6a-8be6-0f9d9aa6afd3",
     "regions": {
      "35643197-e699-4e19-aaea-4da23ba1c1d9": {
       "attrs": {
        "height": 0.8,
        "width": 0.8,
        "x": 0.1,
        "y": 0.1
       },
       "content": {
        "cell": "7500efda-ddf4-4333-bca3-9149b78104f8",
        "part": "whole"
       },
       "id": "35643197-e699-4e19-aaea-4da23ba1c1d9"
      }
     }
    },
    "a30fcca5-944e-4074-9152-56903769ce58": {
     "id": "a30fcca5-944e-4074-9152-56903769ce58",
     "prev": "6e716b4b-bd32-4697-9bbc-fcc51863f645",
     "regions": {
      "40704ee6-b2c8-4658-8e78-9a271bb99dbe": {
       "attrs": {
        "height": 0.8,
        "width": 0.8,
        "x": 0.1,
        "y": 0.1
       },
       "content": {
        "cell": "7dda8bda-807a-48a9-b435-dc8fba74bd44",
        "part": "whole"
       },
       "id": "40704ee6-b2c8-4658-8e78-9a271bb99dbe"
      }
     }
    },
    "cb548605-5ed7-4afe-a891-41b417e53df4": {
     "id": "cb548605-5ed7-4afe-a891-41b417e53df4",
     "prev": "6064c88b-215a-4821-889c-6069d2945db2",
     "regions": {
      "5881839d-a1ce-442f-b7b1-00af7b6c4545": {
       "attrs": {
        "height": 0.8,
        "width": 0.8,
        "x": 0.1,
        "y": 0.1
       },
       "content": {
        "cell": "70dd1388-9f6e-4880-b80b-ebc6e81e03cf",
        "part": "whole"
       },
       "id": "5881839d-a1ce-442f-b7b1-00af7b6c4545"
      }
     }
    }
   },
   "themes": {}
  },
  "widgets": {
   "state": {
    "8517e06ce8f94437ac8eeab30868d4d1": {
     "views": [
      {
       "cell_index": 8
      }
     ]
    }
   },
   "version": "1.2.0"
  }
 },
 "nbformat": 4,
 "nbformat_minor": 1
}
